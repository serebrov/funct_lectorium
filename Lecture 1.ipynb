{
 "cells": [
  {
   "cell_type": "markdown",
   "metadata": {},
   "source": [
    "# Lecture 1\n",
    "\n",
    "Source: https://www.lektorium.tv/lecture/13526?id=13526\n",
    "\n",
    "Links and references:\n",
    "\n",
    "* [Field, Harrisson. Functional Programming](https://www.goodreads.com/book/show/4079840-functional-programming)\n",
    "* [Functional Programming Application and Implementation\n",
    "by Peter Henderson](https://www.goodreads.com/book/show/5838062-functional-programming-application-and-implementation)\n",
    "* [Gentle Introduction To Haskell](https://www.haskell.org/tutorial/)\n",
    "* [Graham Hutton. Programming in Haskell](https://www.amazon.com/Programming-Haskell-Graham-Hutton/dp/0521692695)\n",
    "* [Bryan O'Sullivan John Goerzen Donald Stewart. Real World Haskell](http://book.realworldhaskell.org/)\n",
    "* [www.lambda.org](www.lambda.org)\n",
    "\n",
    "History:\n",
    "\n",
    "* 1960 - LISP - the first functional programming language\n",
    "* 1978 - [Jonh Backus. FP - function-level programming](https://en.wikipedia.org/wiki/FP_(programming_language))\n",
    "* Late 1970th - [ML - meta-language](https://en.wikipedia.org/wiki/ML_(programming_language))\n",
    "* 1985-1986 [David Turner. Miranda](https://en.wikipedia.org/wiki/Miranda_(programming_language)) - functional language with lazy evaluations\n",
    "* 1990 Erricson Erlang - commercial functional langualge\n",
    "* 1988 Paul Hudak Haskell - first Haskell version\n",
    "* 1999 Haskell'98\n",
    "* [haskell.org](haskell.org)"
   ]
  },
  {
   "cell_type": "markdown",
   "metadata": {},
   "source": [
    "## Constants"
   ]
  },
  {
   "cell_type": "code",
   "execution_count": 31,
   "metadata": {},
   "outputs": [],
   "source": [
    "school :: Integer -- Type is not required, will be determined from the context\n",
    "school = 239\n",
    "\n",
    "value = 5\n",
    "\n",
    "piHalf :: Double\n",
    "piHalf = 3.14 / 2"
   ]
  },
  {
   "cell_type": "code",
   "execution_count": 32,
   "metadata": {
    "scrolled": true
   },
   "outputs": [
    {
     "data": {
      "text/plain": [
       "239"
      ]
     },
     "metadata": {},
     "output_type": "display_data"
    },
    {
     "data": {
      "text/plain": [
       "5"
      ]
     },
     "metadata": {},
     "output_type": "display_data"
    },
    {
     "data": {
      "text/plain": [
       "1.57"
      ]
     },
     "metadata": {},
     "output_type": "display_data"
    }
   ],
   "source": [
    "school\n",
    "value\n",
    "piHalf"
   ]
  },
  {
   "cell_type": "markdown",
   "metadata": {},
   "source": [
    "## Tuples"
   ]
  },
  {
   "cell_type": "code",
   "execution_count": 33,
   "metadata": {},
   "outputs": [
    {
     "data": {
      "text/plain": [
       "(2.7,3.14)"
      ]
     },
     "metadata": {},
     "output_type": "display_data"
    },
    {
     "data": {
      "text/plain": [
       "('M',(17,4,1955),True)"
      ]
     },
     "metadata": {},
     "output_type": "display_data"
    }
   ],
   "source": [
    "pair :: (Double, Double)\n",
    "pair = (2.7, 3.14)\n",
    "pair\n",
    "\n",
    "attrs :: (Char, (Int, Int, Int), Bool)\n",
    "attrs = ('M', (17, 4, 1955), True)\n",
    "attrs"
   ]
  },
  {
   "cell_type": "markdown",
   "metadata": {},
   "source": [
    "## Functions"
   ]
  },
  {
   "cell_type": "code",
   "execution_count": 34,
   "metadata": {},
   "outputs": [],
   "source": [
    "-- sin :: Double -> Double -- argument and output both are Double\n",
    "-- plusInt :: Int -> Int -> Int -- two Int arguments, output is Int\n",
    "-- divMod :: (Int, Int) -> (Int, Int) -- one argument and output, both are tuples"
   ]
  },
  {
   "cell_type": "markdown",
   "metadata": {},
   "source": [
    "Functions are defined as math equations:"
   ]
  },
  {
   "cell_type": "code",
   "execution_count": 35,
   "metadata": {},
   "outputs": [],
   "source": [
    "plusInt :: Int -> Int -> Int\n",
    "plusInt a b = a + b\n",
    "\n",
    "divMod :: (Int, Int) -> (Int, Int)\n",
    "divMod (a, b) = (a `div` b, a `mod` b)"
   ]
  },
  {
   "cell_type": "markdown",
   "metadata": {},
   "source": [
    "Function arguments are separated by **spaces**, parentheses are only used for tuples:"
   ]
  },
  {
   "cell_type": "code",
   "execution_count": 36,
   "metadata": {
    "scrolled": true
   },
   "outputs": [
    {
     "data": {
      "text/plain": [
       "7"
      ]
     },
     "metadata": {},
     "output_type": "display_data"
    },
    {
     "data": {
      "text/plain": [
       "(3,354)"
      ]
     },
     "metadata": {},
     "output_type": "display_data"
    }
   ],
   "source": [
    "plusInt 3 4                     -- two arguments\n",
    "divMod (1458, plusInt 176 192)  -- one tuple argument"
   ]
  },
  {
   "cell_type": "markdown",
   "metadata": {},
   "source": [
    "Parentheses may be needed in some cases:"
   ]
  },
  {
   "cell_type": "code",
   "execution_count": 37,
   "metadata": {},
   "outputs": [
    {
     "data": {
      "text/plain": [
       "-0.8414709848078965"
      ]
     },
     "metadata": {},
     "output_type": "display_data"
    }
   ],
   "source": [
    "-- sin -1 -- error - this is interpreted as \"sin minus 1\"\n",
    "sin (-1)"
   ]
  },
  {
   "cell_type": "markdown",
   "metadata": {},
   "source": [
    "Operators and functions only differs syntactically, the following statements are equivalent:"
   ]
  },
  {
   "cell_type": "code",
   "execution_count": 38,
   "metadata": {},
   "outputs": [
    {
     "data": {
      "text/plain": [
       "11"
      ]
     },
     "metadata": {},
     "output_type": "display_data"
    },
    {
     "data": {
      "text/plain": [
       "11"
      ]
     },
     "metadata": {},
     "output_type": "display_data"
    },
    {
     "data": {
      "text/plain": [
       "6"
      ]
     },
     "metadata": {},
     "output_type": "display_data"
    },
    {
     "data": {
      "text/plain": [
       "6"
      ]
     },
     "metadata": {},
     "output_type": "display_data"
    },
    {
     "data": {
      "text/plain": [
       "18"
      ]
     },
     "metadata": {},
     "output_type": "display_data"
    },
    {
     "data": {
      "text/plain": [
       "18"
      ]
     },
     "metadata": {},
     "output_type": "display_data"
    }
   ],
   "source": [
    "3 + 8\n",
    "(+) 3 8\n",
    "\n",
    "27 `div` 4\n",
    "div 27 4\n",
    "    \n",
    "7 `plusInt` 11\n",
    "plusInt 7 11"
   ]
  },
  {
   "cell_type": "markdown",
   "metadata": {},
   "source": [
    "Any function with two arguments can be written in one of the forms above."
   ]
  },
  {
   "cell_type": "markdown",
   "metadata": {},
   "source": [
    "## Expressions with Functions and Constants"
   ]
  },
  {
   "cell_type": "code",
   "execution_count": 39,
   "metadata": {},
   "outputs": [],
   "source": [
    "result = sin (3.14 / 4) - 2/5\n",
    "c10 = 3 + plusInt 3 4\n",
    "pair = divMod (1458, plusInt 176 192)"
   ]
  },
  {
   "cell_type": "markdown",
   "metadata": {},
   "source": [
    "## Conditionals and Recursion in Function Definition"
   ]
  },
  {
   "cell_type": "code",
   "execution_count": 40,
   "metadata": {},
   "outputs": [],
   "source": [
    "factorial :: Integer -> Integer\n",
    "factorial n = if n == 0 then 1\n",
    "                        else n * (factorial (n-1))\n",
    "\n",
    "sum :: Integer -> Integer\n",
    "sum n = n + if n == 0 then 0 else sum (n-1)"
   ]
  },
  {
   "cell_type": "code",
   "execution_count": 41,
   "metadata": {},
   "outputs": [
    {
     "data": {
      "text/plain": [
       "120"
      ]
     },
     "metadata": {},
     "output_type": "display_data"
    },
    {
     "data": {
      "text/plain": [
       "55"
      ]
     },
     "metadata": {},
     "output_type": "display_data"
    }
   ],
   "source": [
    "factorial 5\n",
    "sum 10"
   ]
  },
  {
   "cell_type": "markdown",
   "metadata": {},
   "source": [
    "## Multiple Function Definitions"
   ]
  },
  {
   "cell_type": "code",
   "execution_count": 42,
   "metadata": {},
   "outputs": [],
   "source": [
    "factorial2 :: Integer -> Integer\n",
    "factorial2 0   = 1\n",
    "factorial2 n   = n * (factorial2 (n-1))"
   ]
  },
  {
   "cell_type": "code",
   "execution_count": 43,
   "metadata": {},
   "outputs": [
    {
     "data": {
      "text/plain": [
       "120"
      ]
     },
     "metadata": {},
     "output_type": "display_data"
    }
   ],
   "source": [
    "factorial2 5"
   ]
  },
  {
   "cell_type": "markdown",
   "metadata": {},
   "source": [
    "Note: the order of definitions is important"
   ]
  },
  {
   "cell_type": "markdown",
   "metadata": {},
   "source": [
    "Indentation is important"
   ]
  },
  {
   "cell_type": "code",
   "execution_count": 44,
   "metadata": {},
   "outputs": [],
   "source": [
    "-- factorial1 :: Integer -> Integer     -- error\n",
    "--   factorial1 n | n == 0 = 1\n",
    "--                    | n > 0  = n * (factorial1 (n-1))\n",
    "\n",
    "\n",
    "--   factorial1 :: Integer -> Integer     -- error\n",
    "-- factorial1 n | n == 0 = 1\n",
    "--                  | n > 0  = n * (factorial1 (n-1))\n",
    "\n",
    "\n",
    "factorial1 :: Integer -> Integer     -- OK\n",
    "factorial1 n | n == 0 = 1 | n > 0  = n * (factorial1 (n-1))"
   ]
  },
  {
   "cell_type": "markdown",
   "metadata": {},
   "source": [
    "## Examples"
   ]
  },
  {
   "cell_type": "code",
   "execution_count": 45,
   "metadata": {},
   "outputs": [],
   "source": [
    "-- greatest common denominator\n",
    "gcd             :: Integer -> Integer -> Integer\n",
    "gcd m n | m < n = gcd n m\n",
    "        | n < 0 = error \"gcd: wrong argument\"\n",
    "gcd m 0         = m\n",
    "gcd m n         = gcd n (m `mod` n)"
   ]
  },
  {
   "cell_type": "code",
   "execution_count": 46,
   "metadata": {},
   "outputs": [
    {
     "data": {
      "text/plain": [
       "3"
      ]
     },
     "metadata": {},
     "output_type": "display_data"
    }
   ],
   "source": [
    "gcd 15 27"
   ]
  },
  {
   "cell_type": "markdown",
   "metadata": {},
   "source": [
    "The **error** is a special function that can be used anywhere (as if it returned the result), it terminates the execution."
   ]
  },
  {
   "cell_type": "code",
   "execution_count": 47,
   "metadata": {},
   "outputs": [
    {
     "data": {
      "text/html": [
       "<style>/* Styles used for the Hoogle display in the pager */\n",
       ".hoogle-doc {\n",
       "display: block;\n",
       "padding-bottom: 1.3em;\n",
       "padding-left: 0.4em;\n",
       "}\n",
       ".hoogle-code {\n",
       "display: block;\n",
       "font-family: monospace;\n",
       "white-space: pre;\n",
       "}\n",
       ".hoogle-text {\n",
       "display: block;\n",
       "}\n",
       ".hoogle-name {\n",
       "color: green;\n",
       "font-weight: bold;\n",
       "}\n",
       ".hoogle-head {\n",
       "font-weight: bold;\n",
       "}\n",
       ".hoogle-sub {\n",
       "display: block;\n",
       "margin-left: 0.4em;\n",
       "}\n",
       ".hoogle-package {\n",
       "font-weight: bold;\n",
       "font-style: italic;\n",
       "}\n",
       ".hoogle-module {\n",
       "font-weight: bold;\n",
       "}\n",
       ".hoogle-class {\n",
       "font-weight: bold;\n",
       "}\n",
       ".get-type {\n",
       "color: green;\n",
       "font-weight: bold;\n",
       "font-family: monospace;\n",
       "display: block;\n",
       "white-space: pre-wrap;\n",
       "}\n",
       ".show-type {\n",
       "color: green;\n",
       "font-weight: bold;\n",
       "font-family: monospace;\n",
       "margin-left: 1em;\n",
       "}\n",
       ".mono {\n",
       "font-family: monospace;\n",
       "display: block;\n",
       "}\n",
       ".err-msg {\n",
       "color: red;\n",
       "font-style: italic;\n",
       "font-family: monospace;\n",
       "white-space: pre;\n",
       "display: block;\n",
       "}\n",
       "#unshowable {\n",
       "color: red;\n",
       "font-weight: bold;\n",
       "}\n",
       ".err-msg.in.collapse {\n",
       "padding-top: 0.7em;\n",
       "}\n",
       ".highlight-code {\n",
       "white-space: pre;\n",
       "font-family: monospace;\n",
       "}\n",
       ".suggestion-warning { \n",
       "font-weight: bold;\n",
       "color: rgb(200, 130, 0);\n",
       "}\n",
       ".suggestion-error { \n",
       "font-weight: bold;\n",
       "color: red;\n",
       "}\n",
       ".suggestion-name {\n",
       "font-weight: bold;\n",
       "}\n",
       "</style><span class='err-msg'>gcd: wrong argument<br/>CallStack (from HasCallStack):<br/>  error, called at &lt;interactive&gt;:3:19 in interactive:IHaskell839</span>"
      ],
      "text/plain": [
       "gcd: wrong argument\n",
       "CallStack (from HasCallStack):\n",
       "  error, called at <interactive>:3:19 in interactive:Ghci839"
      ]
     },
     "metadata": {},
     "output_type": "display_data"
    }
   ],
   "source": [
    "gcd 5 (-5)"
   ]
  },
  {
   "cell_type": "code",
   "execution_count": 48,
   "metadata": {},
   "outputs": [],
   "source": [
    "-- Prime number test\n",
    "prime            :: Integer -> Bool\n",
    "prime'           :: Integer -> Integer -> Bool\n",
    "prime p    | p <= 0         = error \"prime: Non-positive argument\"\n",
    "           | otherwise      = prime' 2 p\n",
    "prime' d p | d * d > p      = True\n",
    "           | p `mod` d == 0 = False\n",
    "           | otherwise      = prime' (d+1) p"
   ]
  },
  {
   "cell_type": "code",
   "execution_count": 49,
   "metadata": {},
   "outputs": [
    {
     "data": {
      "text/plain": [
       "True"
      ]
     },
     "metadata": {},
     "output_type": "display_data"
    }
   ],
   "source": [
    "prime 23"
   ]
  },
  {
   "cell_type": "code",
   "execution_count": 50,
   "metadata": {},
   "outputs": [
    {
     "data": {
      "text/plain": [
       "False"
      ]
     },
     "metadata": {},
     "output_type": "display_data"
    }
   ],
   "source": [
    "prime 42"
   ]
  },
  {
   "cell_type": "markdown",
   "metadata": {},
   "source": [
    "## Type Conversion"
   ]
  },
  {
   "cell_type": "code",
   "execution_count": 51,
   "metadata": {},
   "outputs": [
    {
     "data": {
      "text/plain": [
       "7"
      ]
     },
     "metadata": {},
     "output_type": "display_data"
    },
    {
     "data": {
      "text/plain": [
       "6.0"
      ]
     },
     "metadata": {},
     "output_type": "display_data"
    },
    {
     "data": {
      "text/plain": [
       "5.5"
      ]
     },
     "metadata": {},
     "output_type": "display_data"
    }
   ],
   "source": [
    "2 + 5 -- sum integers, result is integer\n",
    "2.5 + 3.5 -- sum real numbers, result is real\n",
    "2 + 3.5 -- sum reals (conversion)\n",
    "\n",
    "x = n + 3.5 where {n = 2} -- sum reals (conversion)"
   ]
  },
  {
   "cell_type": "code",
   "execution_count": 52,
   "metadata": {},
   "outputs": [
    {
     "data": {
      "text/html": [
       "<style>/* Styles used for the Hoogle display in the pager */\n",
       ".hoogle-doc {\n",
       "display: block;\n",
       "padding-bottom: 1.3em;\n",
       "padding-left: 0.4em;\n",
       "}\n",
       ".hoogle-code {\n",
       "display: block;\n",
       "font-family: monospace;\n",
       "white-space: pre;\n",
       "}\n",
       ".hoogle-text {\n",
       "display: block;\n",
       "}\n",
       ".hoogle-name {\n",
       "color: green;\n",
       "font-weight: bold;\n",
       "}\n",
       ".hoogle-head {\n",
       "font-weight: bold;\n",
       "}\n",
       ".hoogle-sub {\n",
       "display: block;\n",
       "margin-left: 0.4em;\n",
       "}\n",
       ".hoogle-package {\n",
       "font-weight: bold;\n",
       "font-style: italic;\n",
       "}\n",
       ".hoogle-module {\n",
       "font-weight: bold;\n",
       "}\n",
       ".hoogle-class {\n",
       "font-weight: bold;\n",
       "}\n",
       ".get-type {\n",
       "color: green;\n",
       "font-weight: bold;\n",
       "font-family: monospace;\n",
       "display: block;\n",
       "white-space: pre-wrap;\n",
       "}\n",
       ".show-type {\n",
       "color: green;\n",
       "font-weight: bold;\n",
       "font-family: monospace;\n",
       "margin-left: 1em;\n",
       "}\n",
       ".mono {\n",
       "font-family: monospace;\n",
       "display: block;\n",
       "}\n",
       ".err-msg {\n",
       "color: red;\n",
       "font-style: italic;\n",
       "font-family: monospace;\n",
       "white-space: pre;\n",
       "display: block;\n",
       "}\n",
       "#unshowable {\n",
       "color: red;\n",
       "font-weight: bold;\n",
       "}\n",
       ".err-msg.in.collapse {\n",
       "padding-top: 0.7em;\n",
       "}\n",
       ".highlight-code {\n",
       "white-space: pre;\n",
       "font-family: monospace;\n",
       "}\n",
       ".suggestion-warning { \n",
       "font-weight: bold;\n",
       "color: rgb(200, 130, 0);\n",
       "}\n",
       ".suggestion-error { \n",
       "font-weight: bold;\n",
       "color: red;\n",
       "}\n",
       ".suggestion-name {\n",
       "font-weight: bold;\n",
       "}\n",
       "</style><span class='err-msg'>&lt;interactive&gt;:1:9: error:<br/>    • No instance for (Fractional Int) arising from the literal ‘3.5’<br/>    • In the second argument of ‘(+)’, namely ‘3.5’<br/>      In the expression: n + 3.5<br/>      In an equation for ‘x’:<br/>          x = n + 3.5<br/>            where<br/>                n :: Int<br/>                n = 2</span>"
      ],
      "text/plain": [
       "<interactive>:1:9: error:\n",
       "    • No instance for (Fractional Int) arising from the literal ‘3.5’\n",
       "    • In the second argument of ‘(+)’, namely ‘3.5’\n",
       "      In the expression: n + 3.5\n",
       "      In an equation for ‘x’:\n",
       "          x = n + 3.5\n",
       "            where\n",
       "                n :: Int\n",
       "                n = 2"
      ]
     },
     "metadata": {},
     "output_type": "display_data"
    }
   ],
   "source": [
    "x = n + 3.5 where {n :: Int; n = 2} -- error integer (defined explicitely) plus real"
   ]
  },
  {
   "cell_type": "code",
   "execution_count": 53,
   "metadata": {},
   "outputs": [
    {
     "data": {
      "text/plain": [
       "5.5"
      ]
     },
     "metadata": {},
     "output_type": "display_data"
    }
   ],
   "source": [
    "fromIntegral n + 3.5 -- explicit type conversion"
   ]
  },
  {
   "cell_type": "code",
   "execution_count": 54,
   "metadata": {},
   "outputs": [
    {
     "data": {
      "text/html": [
       "<style>/* Styles used for the Hoogle display in the pager */\n",
       ".hoogle-doc {\n",
       "display: block;\n",
       "padding-bottom: 1.3em;\n",
       "padding-left: 0.4em;\n",
       "}\n",
       ".hoogle-code {\n",
       "display: block;\n",
       "font-family: monospace;\n",
       "white-space: pre;\n",
       "}\n",
       ".hoogle-text {\n",
       "display: block;\n",
       "}\n",
       ".hoogle-name {\n",
       "color: green;\n",
       "font-weight: bold;\n",
       "}\n",
       ".hoogle-head {\n",
       "font-weight: bold;\n",
       "}\n",
       ".hoogle-sub {\n",
       "display: block;\n",
       "margin-left: 0.4em;\n",
       "}\n",
       ".hoogle-package {\n",
       "font-weight: bold;\n",
       "font-style: italic;\n",
       "}\n",
       ".hoogle-module {\n",
       "font-weight: bold;\n",
       "}\n",
       ".hoogle-class {\n",
       "font-weight: bold;\n",
       "}\n",
       ".get-type {\n",
       "color: green;\n",
       "font-weight: bold;\n",
       "font-family: monospace;\n",
       "display: block;\n",
       "white-space: pre-wrap;\n",
       "}\n",
       ".show-type {\n",
       "color: green;\n",
       "font-weight: bold;\n",
       "font-family: monospace;\n",
       "margin-left: 1em;\n",
       "}\n",
       ".mono {\n",
       "font-family: monospace;\n",
       "display: block;\n",
       "}\n",
       ".err-msg {\n",
       "color: red;\n",
       "font-style: italic;\n",
       "font-family: monospace;\n",
       "white-space: pre;\n",
       "display: block;\n",
       "}\n",
       "#unshowable {\n",
       "color: red;\n",
       "font-weight: bold;\n",
       "}\n",
       ".err-msg.in.collapse {\n",
       "padding-top: 0.7em;\n",
       "}\n",
       ".highlight-code {\n",
       "white-space: pre;\n",
       "font-family: monospace;\n",
       "}\n",
       ".suggestion-warning { \n",
       "font-weight: bold;\n",
       "color: rgb(200, 130, 0);\n",
       "}\n",
       ".suggestion-error { \n",
       "font-weight: bold;\n",
       "color: red;\n",
       "}\n",
       ".suggestion-name {\n",
       "font-weight: bold;\n",
       "}\n",
       "</style><span class='err-msg'>&lt;interactive&gt;:1:9: error:<br/>    • Couldn't match expected type ‘Int’ with actual type ‘Integer’<br/>    • In the second argument of ‘(+)’, namely ‘b’<br/>      In the expression: a + b<br/>      In an equation for ‘x’:<br/>          x = a + b<br/>            where<br/>                a :: Int<br/>                a = 2<br/>                b :: Integer<br/>                b = 12</span>"
      ],
      "text/plain": [
       "<interactive>:1:9: error:\n",
       "    • Couldn't match expected type ‘Int’ with actual type ‘Integer’\n",
       "    • In the second argument of ‘(+)’, namely ‘b’\n",
       "      In the expression: a + b\n",
       "      In an equation for ‘x’:\n",
       "          x = a + b\n",
       "            where\n",
       "                a :: Int\n",
       "                a = 2\n",
       "                b :: Integer\n",
       "                b = 12"
      ]
     },
     "metadata": {},
     "output_type": "display_data"
    }
   ],
   "source": [
    "x = a + b where {a :: Int; a = 2; b :: Integer; b = 12} -- error, different types (Int / Integer)"
   ]
  },
  {
   "cell_type": "code",
   "execution_count": 55,
   "metadata": {},
   "outputs": [
    {
     "data": {
      "text/plain": [
       "14"
      ]
     },
     "metadata": {},
     "output_type": "display_data"
    }
   ],
   "source": [
    "a + fromIntegral b -- sum short integers, explicit type conversion"
   ]
  },
  {
   "cell_type": "markdown",
   "metadata": {},
   "source": [
    "Some functions for type conversions:\n",
    "\n",
    "    fromIntegral\n",
    "    fromRational\n",
    "    fromEnum,\n",
    "    truncate\n",
    "    round\n",
    "    ceiling\n",
    "    floor"
   ]
  }
 ],
 "metadata": {
  "kernelspec": {
   "display_name": "Haskell",
   "language": "haskell",
   "name": "haskell"
  },
  "language_info": {
   "codemirror_mode": "ihaskell",
   "file_extension": ".hs",
   "name": "haskell",
   "version": "8.0.2"
  }
 },
 "nbformat": 4,
 "nbformat_minor": 2
}
